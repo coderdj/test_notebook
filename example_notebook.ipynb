{
 "cells": [
  {
   "cell_type": "code",
   "execution_count": 1,
   "metadata": {
    "collapsed": false
   },
   "outputs": [
    {
     "name": "stderr",
     "output_type": "stream",
     "text": [
      "Using TensorFlow backend.\n"
     ]
    }
   ],
   "source": [
    "import hax\n",
    "from hax.corrections_handler import CorrectionsHandler\n",
    "\n",
    "hax.init()\n",
    "ch = CorrectionsHandler()"
   ]
  },
  {
   "cell_type": "code",
   "execution_count": 2,
   "metadata": {
    "collapsed": false
   },
   "outputs": [],
   "source": [
    "from pymongo import MongoClient\n",
    "import os\n",
    "client = MongoClient(\"mongodb://pax:%s@zenigata.uchicago.edu:27017/run\"%os.environ['MONGO_PASSWORD'])\n",
    "rc = client['run']['runs_new']\n",
    "\n",
    "runs_i_want = rc.find({\"number\": {\"$in\": [14000, 14001, 14002]}})"
   ]
  },
  {
   "cell_type": "code",
   "execution_count": 3,
   "metadata": {
    "collapsed": false
   },
   "outputs": [
    {
     "name": "stdout",
     "output_type": "stream",
     "text": [
      "Lifetime for run 14002 is 662.00\n",
      "Lifetime for run 14001 is 661.99\n",
      "Lifetime for run 14000 is 661.99\n"
     ]
    }
   ],
   "source": [
    "import numpy as np\n",
    "for doc in runs_i_want:\n",
    "    elifetime = ch.get_electron_lifetime(np.datetime64(doc['start']))\n",
    "    print(\"Lifetime for run %i is %.2f\"%(doc['number'], elifetime))"
   ]
  },
  {
   "cell_type": "code",
   "execution_count": null,
   "metadata": {
    "collapsed": true
   },
   "outputs": [],
   "source": []
  }
 ],
 "metadata": {
  "kernelspec": {
   "display_name": "Python 3",
   "language": "python",
   "name": "python3"
  },
  "language_info": {
   "codemirror_mode": {
    "name": "ipython",
    "version": 3
   },
   "file_extension": ".py",
   "mimetype": "text/x-python",
   "name": "python",
   "nbconvert_exporter": "python",
   "pygments_lexer": "ipython3",
   "version": "3.4.4"
  }
 },
 "nbformat": 4,
 "nbformat_minor": 0
}
